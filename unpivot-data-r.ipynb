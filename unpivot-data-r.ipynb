{
 "cells": [
  {
   "cell_type": "code",
   "execution_count": 1,
   "id": "painted-honey",
   "metadata": {},
   "outputs": [
    {
     "name": "stderr",
     "output_type": "stream",
     "text": [
      "Warning message:\n",
      "\"package 'tidyverse' was built under R version 4.0.3\"\n",
      "-- \u001b[1mAttaching packages\u001b[22m ------------------------------------------------------------------------------- tidyverse 1.3.0 --\n",
      "\n",
      "\u001b[32mv\u001b[39m \u001b[34mggplot2\u001b[39m 3.3.2     \u001b[32mv\u001b[39m \u001b[34mpurrr  \u001b[39m 0.3.4\n",
      "\u001b[32mv\u001b[39m \u001b[34mtibble \u001b[39m 3.0.4     \u001b[32mv\u001b[39m \u001b[34mdplyr  \u001b[39m 1.0.2\n",
      "\u001b[32mv\u001b[39m \u001b[34mtidyr  \u001b[39m 1.1.2     \u001b[32mv\u001b[39m \u001b[34mstringr\u001b[39m 1.4.0\n",
      "\u001b[32mv\u001b[39m \u001b[34mreadr  \u001b[39m 1.4.0     \u001b[32mv\u001b[39m \u001b[34mforcats\u001b[39m 0.5.0\n",
      "\n",
      "Warning message:\n",
      "\"package 'tibble' was built under R version 4.0.3\"\n",
      "Warning message:\n",
      "\"package 'readr' was built under R version 4.0.3\"\n",
      "-- \u001b[1mConflicts\u001b[22m ---------------------------------------------------------------------------------- tidyverse_conflicts() --\n",
      "\u001b[31mx\u001b[39m \u001b[34mdplyr\u001b[39m::\u001b[32mfilter()\u001b[39m masks \u001b[34mstats\u001b[39m::filter()\n",
      "\u001b[31mx\u001b[39m \u001b[34mdplyr\u001b[39m::\u001b[32mlag()\u001b[39m    masks \u001b[34mstats\u001b[39m::lag()\n",
      "\n"
     ]
    }
   ],
   "source": [
    "library(tidyverse)"
   ]
  },
  {
   "cell_type": "code",
   "execution_count": 2,
   "id": "advised-occurrence",
   "metadata": {},
   "outputs": [
    {
     "name": "stderr",
     "output_type": "stream",
     "text": [
      "\n",
      "\u001b[36m--\u001b[39m \u001b[1m\u001b[1mColumn specification\u001b[1m\u001b[22m \u001b[36m------------------------------------------------------------------------------------------------\u001b[39m\n",
      "cols(\n",
      "  Channel = \u001b[32mcol_double()\u001b[39m,\n",
      "  Region = \u001b[32mcol_double()\u001b[39m,\n",
      "  Fresh = \u001b[32mcol_double()\u001b[39m,\n",
      "  Milk = \u001b[32mcol_double()\u001b[39m,\n",
      "  Grocery = \u001b[32mcol_double()\u001b[39m,\n",
      "  Frozen = \u001b[32mcol_double()\u001b[39m,\n",
      "  Detergents_Paper = \u001b[32mcol_double()\u001b[39m,\n",
      "  Delicassen = \u001b[32mcol_double()\u001b[39m\n",
      ")\n",
      "\n",
      "\n"
     ]
    },
    {
     "data": {
      "text/html": [
       "<table>\n",
       "<caption>A tibble: 6 × 8</caption>\n",
       "<thead>\n",
       "\t<tr><th scope=col>Channel</th><th scope=col>Region</th><th scope=col>Fresh</th><th scope=col>Milk</th><th scope=col>Grocery</th><th scope=col>Frozen</th><th scope=col>Detergents_Paper</th><th scope=col>Delicassen</th></tr>\n",
       "\t<tr><th scope=col>&lt;dbl&gt;</th><th scope=col>&lt;dbl&gt;</th><th scope=col>&lt;dbl&gt;</th><th scope=col>&lt;dbl&gt;</th><th scope=col>&lt;dbl&gt;</th><th scope=col>&lt;dbl&gt;</th><th scope=col>&lt;dbl&gt;</th><th scope=col>&lt;dbl&gt;</th></tr>\n",
       "</thead>\n",
       "<tbody>\n",
       "\t<tr><td>2</td><td>3</td><td>12669</td><td>9656</td><td>7561</td><td> 214</td><td>2674</td><td>1338</td></tr>\n",
       "\t<tr><td>2</td><td>3</td><td> 7057</td><td>9810</td><td>9568</td><td>1762</td><td>3293</td><td>1776</td></tr>\n",
       "\t<tr><td>2</td><td>3</td><td> 6353</td><td>8808</td><td>7684</td><td>2405</td><td>3516</td><td>7844</td></tr>\n",
       "\t<tr><td>1</td><td>3</td><td>13265</td><td>1196</td><td>4221</td><td>6404</td><td> 507</td><td>1788</td></tr>\n",
       "\t<tr><td>2</td><td>3</td><td>22615</td><td>5410</td><td>7198</td><td>3915</td><td>1777</td><td>5185</td></tr>\n",
       "\t<tr><td>2</td><td>3</td><td> 9413</td><td>8259</td><td>5126</td><td> 666</td><td>1795</td><td>1451</td></tr>\n",
       "</tbody>\n",
       "</table>\n"
      ],
      "text/latex": [
       "A tibble: 6 × 8\n",
       "\\begin{tabular}{llllllll}\n",
       " Channel & Region & Fresh & Milk & Grocery & Frozen & Detergents\\_Paper & Delicassen\\\\\n",
       " <dbl> & <dbl> & <dbl> & <dbl> & <dbl> & <dbl> & <dbl> & <dbl>\\\\\n",
       "\\hline\n",
       "\t 2 & 3 & 12669 & 9656 & 7561 &  214 & 2674 & 1338\\\\\n",
       "\t 2 & 3 &  7057 & 9810 & 9568 & 1762 & 3293 & 1776\\\\\n",
       "\t 2 & 3 &  6353 & 8808 & 7684 & 2405 & 3516 & 7844\\\\\n",
       "\t 1 & 3 & 13265 & 1196 & 4221 & 6404 &  507 & 1788\\\\\n",
       "\t 2 & 3 & 22615 & 5410 & 7198 & 3915 & 1777 & 5185\\\\\n",
       "\t 2 & 3 &  9413 & 8259 & 5126 &  666 & 1795 & 1451\\\\\n",
       "\\end{tabular}\n"
      ],
      "text/markdown": [
       "\n",
       "A tibble: 6 × 8\n",
       "\n",
       "| Channel &lt;dbl&gt; | Region &lt;dbl&gt; | Fresh &lt;dbl&gt; | Milk &lt;dbl&gt; | Grocery &lt;dbl&gt; | Frozen &lt;dbl&gt; | Detergents_Paper &lt;dbl&gt; | Delicassen &lt;dbl&gt; |\n",
       "|---|---|---|---|---|---|---|---|\n",
       "| 2 | 3 | 12669 | 9656 | 7561 |  214 | 2674 | 1338 |\n",
       "| 2 | 3 |  7057 | 9810 | 9568 | 1762 | 3293 | 1776 |\n",
       "| 2 | 3 |  6353 | 8808 | 7684 | 2405 | 3516 | 7844 |\n",
       "| 1 | 3 | 13265 | 1196 | 4221 | 6404 |  507 | 1788 |\n",
       "| 2 | 3 | 22615 | 5410 | 7198 | 3915 | 1777 | 5185 |\n",
       "| 2 | 3 |  9413 | 8259 | 5126 |  666 | 1795 | 1451 |\n",
       "\n"
      ],
      "text/plain": [
       "  Channel Region Fresh Milk Grocery Frozen Detergents_Paper Delicassen\n",
       "1 2       3      12669 9656 7561     214   2674             1338      \n",
       "2 2       3       7057 9810 9568    1762   3293             1776      \n",
       "3 2       3       6353 8808 7684    2405   3516             7844      \n",
       "4 1       3      13265 1196 4221    6404    507             1788      \n",
       "5 2       3      22615 5410 7198    3915   1777             5185      \n",
       "6 2       3       9413 8259 5126     666   1795             1451      "
      ]
     },
     "metadata": {},
     "output_type": "display_data"
    }
   ],
   "source": [
    "# Read in dataset as csv\n",
    "\n",
    "wholesale <- read_csv('https://archive.ics.uci.edu/ml/machine-learning-databases/00292/Wholesale%20customers%20data.csv')\n",
    "\n",
    "head(wholesale)"
   ]
  },
  {
   "cell_type": "code",
   "execution_count": 3,
   "id": "documentary-skiing",
   "metadata": {},
   "outputs": [
    {
     "data": {
      "text/html": [
       "<table>\n",
       "<caption>A tibble: 6 × 4</caption>\n",
       "<thead>\n",
       "\t<tr><th scope=col>Channel</th><th scope=col>Region</th><th scope=col>Category</th><th scope=col>Sales</th></tr>\n",
       "\t<tr><th scope=col>&lt;dbl&gt;</th><th scope=col>&lt;dbl&gt;</th><th scope=col>&lt;chr&gt;</th><th scope=col>&lt;dbl&gt;</th></tr>\n",
       "</thead>\n",
       "<tbody>\n",
       "\t<tr><td>2</td><td>3</td><td>Fresh           </td><td>12669</td></tr>\n",
       "\t<tr><td>2</td><td>3</td><td>Milk            </td><td> 9656</td></tr>\n",
       "\t<tr><td>2</td><td>3</td><td>Grocery         </td><td> 7561</td></tr>\n",
       "\t<tr><td>2</td><td>3</td><td>Frozen          </td><td>  214</td></tr>\n",
       "\t<tr><td>2</td><td>3</td><td>Detergents_Paper</td><td> 2674</td></tr>\n",
       "\t<tr><td>2</td><td>3</td><td>Delicassen      </td><td> 1338</td></tr>\n",
       "</tbody>\n",
       "</table>\n"
      ],
      "text/latex": [
       "A tibble: 6 × 4\n",
       "\\begin{tabular}{llll}\n",
       " Channel & Region & Category & Sales\\\\\n",
       " <dbl> & <dbl> & <chr> & <dbl>\\\\\n",
       "\\hline\n",
       "\t 2 & 3 & Fresh            & 12669\\\\\n",
       "\t 2 & 3 & Milk             &  9656\\\\\n",
       "\t 2 & 3 & Grocery          &  7561\\\\\n",
       "\t 2 & 3 & Frozen           &   214\\\\\n",
       "\t 2 & 3 & Detergents\\_Paper &  2674\\\\\n",
       "\t 2 & 3 & Delicassen       &  1338\\\\\n",
       "\\end{tabular}\n"
      ],
      "text/markdown": [
       "\n",
       "A tibble: 6 × 4\n",
       "\n",
       "| Channel &lt;dbl&gt; | Region &lt;dbl&gt; | Category &lt;chr&gt; | Sales &lt;dbl&gt; |\n",
       "|---|---|---|---|\n",
       "| 2 | 3 | Fresh            | 12669 |\n",
       "| 2 | 3 | Milk             |  9656 |\n",
       "| 2 | 3 | Grocery          |  7561 |\n",
       "| 2 | 3 | Frozen           |   214 |\n",
       "| 2 | 3 | Detergents_Paper |  2674 |\n",
       "| 2 | 3 | Delicassen       |  1338 |\n",
       "\n"
      ],
      "text/plain": [
       "  Channel Region Category         Sales\n",
       "1 2       3      Fresh            12669\n",
       "2 2       3      Milk              9656\n",
       "3 2       3      Grocery           7561\n",
       "4 2       3      Frozen             214\n",
       "5 2       3      Detergents_Paper  2674\n",
       "6 2       3      Delicassen        1338"
      ]
     },
     "metadata": {},
     "output_type": "display_data"
    }
   ],
   "source": [
    "# Let's unpivot!\n",
    "# `cols` argument: what columns to lengthen by   \n",
    "# `values_to`: name the resulting values column   \n",
    "# `names_to` to name the resulting labels column  \n",
    "\n",
    "\n",
    "wholesale_pivot <- wholesale %>%\n",
    " pivot_longer(cols = c('Fresh':'Delicassen'),\n",
    " values_to = 'Sales', names_to = 'Category')\n",
    "\n",
    "\n",
    "head(wholesale_pivot)"
   ]
  },
  {
   "cell_type": "code",
   "execution_count": 4,
   "id": "fleet-pendant",
   "metadata": {},
   "outputs": [
    {
     "data": {
      "text/html": [
       "<style>\n",
       ".list-inline {list-style: none; margin:0; padding: 0}\n",
       ".list-inline>li {display: inline-block}\n",
       ".list-inline>li:not(:last-child)::after {content: \"\\00b7\"; padding: 0 .5ex}\n",
       "</style>\n",
       "<ol class=list-inline><li>2640</li><li>4</li></ol>\n"
      ],
      "text/latex": [
       "\\begin{enumerate*}\n",
       "\\item 2640\n",
       "\\item 4\n",
       "\\end{enumerate*}\n"
      ],
      "text/markdown": [
       "1. 2640\n",
       "2. 4\n",
       "\n",
       "\n"
      ],
      "text/plain": [
       "[1] 2640    4"
      ]
     },
     "metadata": {},
     "output_type": "display_data"
    }
   ],
   "source": [
    "# Sanity check -- what are dimensions of resulting dataset?\n",
    "dim(wholesale_pivot)"
   ]
  }
 ],
 "metadata": {
  "kernelspec": {
   "display_name": "R",
   "language": "R",
   "name": "ir"
  },
  "language_info": {
   "codemirror_mode": "r",
   "file_extension": ".r",
   "mimetype": "text/x-r-source",
   "name": "R",
   "pygments_lexer": "r",
   "version": "4.0.2"
  }
 },
 "nbformat": 4,
 "nbformat_minor": 5
}
